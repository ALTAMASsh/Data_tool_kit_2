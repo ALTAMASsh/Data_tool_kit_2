{
 "cells": [
  {
   "cell_type": "code",
   "execution_count": 20,
   "metadata": {},
   "outputs": [],
   "source": [
    "import pandas as pd\n",
    "import numpy as np\n",
    "import matplotlib.pyplot as plt\n",
    "import seaborn as sns"
   ]
  },
  {
   "cell_type": "code",
   "execution_count": 21,
   "metadata": {},
   "outputs": [],
   "source": [
    "df = pd.read_csv(\"/Users\\DELL\\OneDrive\\Desktop\\R L\\Data_set\\People Data.csv\")"
   ]
  },
  {
   "cell_type": "code",
   "execution_count": 22,
   "metadata": {},
   "outputs": [],
   "source": [
    "temp = df"
   ]
  },
  {
   "cell_type": "code",
   "execution_count": 23,
   "metadata": {},
   "outputs": [
    {
     "name": "stdout",
     "output_type": "stream",
     "text": [
      "Method 1:\n",
      "[[1 2 3]\n",
      " [4 5 6]\n",
      " [7 8 9]]\n",
      "Method 2:\n",
      "[[1. 2. 3.]\n",
      " [4. 5. 6.]\n",
      " [7. 8. 9.]]\n",
      "Method 3\n",
      "[[1 2 3]\n",
      " [4 5 6]\n",
      " [7 8 9]]\n"
     ]
    }
   ],
   "source": [
    "#Demonstrate three different methods for creating identical 2D arrays in NumPy. Provide the code for each\n",
    "#method and the final output after each method.\n",
    "array_1 = np.array([[1,2,3],[4,5,6],[7,8,9]])\n",
    "print(\"Method 1:\")\n",
    "print(array_1)\n",
    "array_2 = np.zeros((3,3))\n",
    "array_2[0, :] = [1, 2, 3]\n",
    "array_2[1, :] = [4, 5, 6]\n",
    "array_2[2, :] = [7, 8, 9]\n",
    "print(\"Method 2:\")\n",
    "print(array_2)\n",
    "array_3 = np.full((3,3),0)\n",
    "array_3[0, :] = [1, 2, 3]\n",
    "array_3[1, :] = [4, 5, 6]\n",
    "array_3[2, :] = [7, 8, 9]\n",
    "\n",
    "print(\"Method 3\")\n",
    "print(array_3)"
   ]
  },
  {
   "cell_type": "code",
   "execution_count": 24,
   "metadata": {},
   "outputs": [],
   "source": [
    "#[2] Using the Numpy function, generate an array of 100 evenly spaced numbers between 1 and 10 and\n",
    "#Reshape that 1D array into a 2D array.\n",
    "array_1d = np.linspace(start=1,stop=10,num=100)\n",
    "array_2d = array_1d.reshape(10,10)"
   ]
  },
  {
   "cell_type": "code",
   "execution_count": 25,
   "metadata": {},
   "outputs": [
    {
     "name": "stdout",
     "output_type": "stream",
     "text": [
      "Original data:  [1, 2, 3]\n",
      "NumPy array:  [1 2 3]\n",
      "Original data after modification:  [10, 2, 3]\n",
      "NumPy array after modification:  [1 2 3]\n",
      "Original data:  [1, 2, 3]\n",
      "NumPy array:  [1 2 3]\n",
      "Original data after modification:  [10, 2, 3]\n",
      "NumPy array after modification:  [1 2 3]\n",
      "Original data:  [1, 2, 3]\n",
      "NumPy array:  [10  2  3]\n",
      "Original data after modification:  [10, 2, 3]\n",
      "NumPy array after modification:  [10  2  3]\n"
     ]
    }
   ],
   "source": [
    "#[3]Explain the following terms\n",
    "# The difference in np.array, np.asarray and np.asanyarray\n",
    "#np.array = It can convert a list, tuple, or other array-like object into a NumPy array. It makes a copy of the input data, so any changes made to the original data will not affect the NumPy array.\n",
    "data = [1, 2, 3]\n",
    "arr = np.array(data)\n",
    "\n",
    "print(\"Original data: \", data)\n",
    "print(\"NumPy array: \", arr)\n",
    "\n",
    "data[0] = 10\n",
    "print(\"Original data after modification: \", data)\n",
    "print(\"NumPy array after modification: \", arr)\n",
    "#np.asarray = it does not make a copy of the input data if it is already a NumPy array. Instead, it returns a view of the input data, which means that any changes made to the original data will also affect the NumPy array.\n",
    "data1 = [1, 2, 3]\n",
    "arr1 = np.asarray(data1)\n",
    "\n",
    "print(\"Original data: \", data1)\n",
    "print(\"NumPy array: \", arr1)\n",
    "\n",
    "data1[0] = 10\n",
    "print(\"Original data after modification: \", data1)\n",
    "print(\"NumPy array after modification: \", arr1)\n",
    "#np.asanyarray =  It returns a NumPy array that is a view of the input data if it is already a NumPy array, or a copy of the input data if it is not.\n",
    "data2 = [1, 2, 3]\n",
    "arr2 = np.asarray(data)\n",
    "\n",
    "print(\"Original data: \", data2)\n",
    "print(\"NumPy array: \", arr2)\n",
    "\n",
    "data2[0] = 10\n",
    "print(\"Original data after modification: \", data2)\n",
    "print(\"NumPy array after modification: \", arr2)\n",
    "# The difference between Deep copy and shallow copy\n",
    "#In Shallow copy, a copy of the original object is stored and only the reference address is finally copied. In Deep copy, the copy of the original object and the repetitive copies both are stored\n",
    "#shallow copy is faster then deep copy"
   ]
  },
  {
   "cell_type": "code",
   "execution_count": 26,
   "metadata": {},
   "outputs": [
    {
     "name": "stdout",
     "output_type": "stream",
     "text": [
      "[[ 5.24  6.95  5.84]\n",
      " [10.74  7.59  5.87]\n",
      " [12.1   9.3   5.91]]\n"
     ]
    }
   ],
   "source": [
    "#[4] Generate a 3x3array with random floating-point numbers between 5 and 20 then, round each numPer in\n",
    "#the array to 2 decimal places\n",
    "arr = np.random.uniform(5,20,(3,3))\n",
    "arr = np.round(arr,2)\n",
    "print(arr)"
   ]
  },
  {
   "cell_type": "code",
   "execution_count": 27,
   "metadata": {},
   "outputs": [
    {
     "name": "stdout",
     "output_type": "stream",
     "text": [
      "\n",
      "Even integers:\n",
      "[ 8  4  8 10 10  6  8  2  2 10  4  8  8  4  2  8 10 10  8  4]\n",
      "\n",
      "Odd integers:\n",
      "[9 3 9 7 5 1 7 1 5 9]\n"
     ]
    }
   ],
   "source": [
    "#(5) Create a NumPy array with random integers Between 1 and 10 of shape (5,6 )) After creating the array\n",
    "#perform the following operations:\n",
    "arr = np.random.randint(1,11,(5,6))\n",
    "#a)Extract all even integers from array\n",
    "even_integers = arr[arr % 2 == 0]\n",
    "print(\"\\nEven integers:\")\n",
    "print(even_integers)\n",
    "even2d = np.array(even_integers)\n",
    "# b)Extract all odd integers from arrayX\n",
    "odd_integers = arr[arr % 2 != 0]\n",
    "print(\"\\nOdd integers:\")\n",
    "print(odd_integers)\n",
    "odd2d = np.array(odd_integers)\n"
   ]
  },
  {
   "cell_type": "code",
   "execution_count": 28,
   "metadata": {},
   "outputs": [
    {
     "name": "stdout",
     "output_type": "stream",
     "text": [
      "[[[ 4  0  6]\n",
      "  [ 0 10  0]\n",
      "  [ 2  1  8]]\n",
      "\n",
      " [[18  0 18]\n",
      "  [ 0  4  0]\n",
      "  [ 3  3  2]]\n",
      "\n",
      " [[12  0 14]\n",
      "  [ 0 16  0]\n",
      "  [ 5  6 16]]]\n"
     ]
    }
   ],
   "source": [
    "#(6) Create a 3D NumPy array of shape (3, 3, 3) containing random integers between 1 and 10. Performs \n",
    "#following operations:\n",
    "arr = np.random.randint(1,10,size=(3,3,3))\n",
    "# a) Find the indices of the maximum values along each depth level (third axis).\n",
    "max_indic = np.argmax(arr,axis=2)\n",
    "#b) Perform elementwise multiplication of between both array.\n",
    "multi = np.multiply(arr,max_indic)\n",
    "print(multi)"
   ]
  },
  {
   "cell_type": "code",
   "execution_count": 29,
   "metadata": {},
   "outputs": [
    {
     "name": "stdout",
     "output_type": "stream",
     "text": [
      "<class 'pandas.core.frame.DataFrame'>\n",
      "RangeIndex: 1000 entries, 0 to 999\n",
      "Data columns (total 10 columns):\n",
      " #   Column         Non-Null Count  Dtype  \n",
      "---  ------         --------------  -----  \n",
      " 0   Index          1000 non-null   int64  \n",
      " 1   User Id        1000 non-null   object \n",
      " 2   First Name     1000 non-null   object \n",
      " 3   Last Name      1000 non-null   object \n",
      " 4   Gender         1000 non-null   object \n",
      " 5   Email          1000 non-null   object \n",
      " 6   Phone          979 non-null    float64\n",
      " 7   Date of birth  1000 non-null   object \n",
      " 8   Job Title      1000 non-null   object \n",
      " 9   Salary         1000 non-null   int64  \n",
      "dtypes: float64(1), int64(2), object(7)\n",
      "memory usage: 78.3+ KB\n",
      "None\n"
     ]
    }
   ],
   "source": [
    "#(7) Clean and transform the 'Phone' column in the sample dataset to remove non-numeric characters and\n",
    "#convert it to a numeric data typee Also display the table attributes and data types of each column\n",
    "temp['Phone'] = temp['Phone'].str.replace(r'\\D+', '', regex=True)\n",
    "temp['Phone'] = pd.to_numeric(temp['Phone'], errors='coerce')\n",
    "\n",
    "# Display the table attributes and data types of each column\n",
    "print(temp.info())\n",
    "\n"
   ]
  },
  {
   "cell_type": "code",
   "execution_count": 30,
   "metadata": {},
   "outputs": [
    {
     "name": "stdout",
     "output_type": "stream",
     "text": [
      "   Last Name  Gender                       Email         Phone  Salary\n",
      "50    Zavala    Male        pamela64@example.net  1.859449e+15   80000\n",
      "51     Carey  Female   dianashepherd@example.net  1.274740e+13   70000\n",
      "52     Hobbs  Female   ingramtiffany@example.org  2.411800e+12   60000\n",
      "53    Reilly    Male  carriecrawford@example.org  2.077978e+13  100000\n",
      "54    Conrad    Male  fuentesclaudia@example.net  1.599043e+13   50000\n",
      "55      Cole    Male      kaneaudrey@example.org  6.632806e+09   85000\n",
      "56   Donovan    Male   rebekahsantos@example.net           NaN   65000\n",
      "57    Little  Female         craig28@example.com  1.252194e+13   60000\n",
      "58    Dawson  Female  connercourtney@example.net  6.507483e+14   60000\n",
      "59      Page    Male  harrygallagher@example.com  8.495006e+12   60000\n",
      "\n",
      "\n",
      "995     90000\n",
      "996     50000\n",
      "997     60000\n",
      "998    100000\n",
      "999     90000\n",
      "Name: Salary, dtype: int64\n"
     ]
    }
   ],
   "source": [
    "#(8) Perform the following tas\\s using people dataset:\n",
    "#a) Read the 'data.csv' file using pandas, skipping the first 50 rows\n",
    "temp = temp[50:]\n",
    "# b) Only read the columns: 'Last Name', ‘Gender’,’Email’,‘Phone’ and ‘Salary’ from the file.\n",
    "temp = temp[['Last Name', 'Gender', 'Email', 'Phone', 'Salary']]\n",
    "#c) Display the first 10 rows of the filtered dataset.\n",
    "print(temp.head(10))\n",
    "#d) Extract the ‘Salary’' column as a Series and display its last 5 values.\n",
    "salary = temp[\"Salary\"].tail(5)\n",
    "print(\"\\n\")\n",
    "print(salary)"
   ]
  },
  {
   "cell_type": "code",
   "execution_count": 31,
   "metadata": {},
   "outputs": [
    {
     "name": "stdout",
     "output_type": "stream",
     "text": [
      "    Last Name  Gender                     Email         Phone  Salary\n",
      "210      Duke  Female       robin78@example.com  7.404340e+09   50000\n",
      "457      Duke  Female  perryhoffman@example.org  1.903596e+13   50000\n",
      "729      Duke  Female   kevinkramer@example.net  9.826926e+09   70000\n"
     ]
    }
   ],
   "source": [
    "#(9) Filter and select rows from the People_Dataset, where the “Last Name' column contains the name 'Duke', \n",
    "#'Gender' column contains the word Female and ‘Salary’ should be less than 85000\n",
    "filterd_temp = temp[(temp[\"Last Name\"] == 'Duke')&(temp[\"Gender\"] == \"Female\")& (temp[\"Salary\"]<85000)]\n",
    "print(filterd_temp)"
   ]
  },
  {
   "cell_type": "code",
   "execution_count": 32,
   "metadata": {},
   "outputs": [],
   "source": [
    "#(10) Create a 7*5 Dataframe in Pandas using a series generated from 35 random integers between 1 to 6)?\n",
    "data = np.random.randint(1,7,size=(35,))\n",
    "rand_df = pd.DataFrame(data.reshape(7,5),columns=[\"random_numbers_1\", \"random_numbers_2\",\"random_numbers_3\", \"random_numbers_4\",\"random_numbers_5\"])\n",
    "\n"
   ]
  },
  {
   "cell_type": "code",
   "execution_count": 33,
   "metadata": {},
   "outputs": [],
   "source": [
    "#(11) Create two different Series, each of length 50, with the following criteria\n",
    "#a) The first Series should contain random numbers ranging from 10 to 50.\n",
    "series1 = pd.Series(np.random.randint(10,51,size=50))\n",
    "#b)The second Series should contain random numbers ranging from 100 to 1000\n",
    "series2 = pd.Series(np.random.randint(100, 1001, size=50))\n",
    "#c) Create a DataFrame by 'oining these Series by column, and, change the names of the columns to 'col1', 'col2',\n",
    "s1_s2_df = pd.DataFrame({\n",
    "    \"col_1\" : series1,\n",
    "    \"col_2\" : series2\n",
    "})"
   ]
  },
  {
   "cell_type": "code",
   "execution_count": 34,
   "metadata": {},
   "outputs": [
    {
     "name": "stdout",
     "output_type": "stream",
     "text": [
      "Index(['Index', 'User Id', 'First Name', 'Last Name', 'Gender', 'Job Title',\n",
      "       'Salary'],\n",
      "      dtype='object')\n",
      "     Index          User Id First Name Last Name  Gender  \\\n",
      "0        1  8717bbf45cCDbEe     Shelia   Mahoney    Male   \n",
      "1        2  3d5AD30A4cD38ed         Jo    Rivers  Female   \n",
      "2        3  810Ce0F276Badec     Sheryl    Lowery  Female   \n",
      "3        4  BF2a889C00f0cE1    Whitney    Hooper    Male   \n",
      "4        5  9afFEafAe1CBBB9    Lindsey      Rice  Female   \n",
      "..     ...              ...        ...       ...     ...   \n",
      "995    996  fedF4c7Fd9e7cFa       Kurt    Bryant  Female   \n",
      "996    997  ECddaFEDdEc4FAB      Donna     Barry  Female   \n",
      "997    998  2adde51d8B8979E      Cathy  Mckinney  Female   \n",
      "998    999  Fb2FE369D1E171A   Jermaine    Phelps    Male   \n",
      "999   1000  8b756f6231DDC6e        Lee      Tran  Female   \n",
      "\n",
      "                           Job Title  Salary  \n",
      "0                  Probation officer   90000  \n",
      "1                             Dancer   80000  \n",
      "2                               Copy   50000  \n",
      "3           Counselling psychologist   65000  \n",
      "4                Biomedical engineer  100000  \n",
      "..                               ...     ...  \n",
      "995                Personnel officer   90000  \n",
      "996          Education administrator   50000  \n",
      "997  Commercial/residential surveyor   60000  \n",
      "998                 Ambulance person  100000  \n",
      "999       Nurse, learning disability   90000  \n",
      "\n",
      "[1000 rows x 7 columns]\n"
     ]
    }
   ],
   "source": [
    "#(12) Perform the following operations using people data set:\n",
    "#a) Delete the 'Email', 'Phone', and 'Date of birth' columns from the dataset.\n",
    "df = df.drop(['Email', 'Phone', 'Date of birth'], axis=1)\n",
    "\n",
    "print(df.columns)\n",
    "#b) Delete the rows containing any missing values.\n",
    "df = df.dropna()\n",
    "#c) Print the final outut also\n",
    "print(df)"
   ]
  },
  {
   "cell_type": "code",
   "execution_count": 35,
   "metadata": {},
   "outputs": [
    {
     "data": {
      "image/png": "[encoded data removed]",
      "text/plain": [
       "<Figure size 800x800 with 1 Axes>"
      ]
     },
     "metadata": {},
     "output_type": "display_data"
    }
   ],
   "source": [
    "#(13) Create two NumPy arrays, x and y, each containing 100 random float values between 0 and 1. Perform the \n",
    "#following tasks using Matplotlib and NumPy:\n",
    "x = np.random.uniform(0,1,size=100)\n",
    "y = np.random.uniform(0,1,size=100)\n",
    "#a) Create a scatter plot using x and y, setting the color of the Points to red and the marker style to 'o'\n",
    "plt.figure(figsize=(8,8))\n",
    "plt.scatter(x=x,y=y,color=\"red\",marker='o',label=\"Scatter\")\n",
    "#b) Add a horizontal line at y = 0.5 using a dashed line style and label it as 'y = 0.5'.\n",
    "plt.axhline(y=0.5,linestyle='--',color='black',label='y=0.5')\n",
    "#c) Add a vertical line at x = 0.5 using a dotted line style and label it as 'x = 0.5'.\n",
    "plt.axvline(x=0.5,linestyle=':',color='Green',label='x=0.5')\n",
    "#d) Label the x-axis as 'X-axis' and the y-axis as 'Y-axis'\n",
    "plt.xlabel('X-axis')\n",
    "plt.ylabel('Y-axis')\n",
    "#e) Set the title of the Plot as 'Advanced Scatter Plot of Random Values'\n",
    "plt.title('Advanced Scatter Plot of Random Values')\n",
    "#f) Display a legend for the scatter plot, the horizontal line, and the vertical line.\n",
    "plt.legend()\n",
    "#Show Plot\n",
    "plt.show()\n",
    "\n"
   ]
  },
  {
   "cell_type": "code",
   "execution_count": 36,
   "metadata": {},
   "outputs": [
    {
     "data": {
      "image/png": "[encoded data removed]",
      "text/plain": [
       "<Figure size 1000x500 with 2 Axes>"
      ]
     },
     "metadata": {},
     "output_type": "display_data"
    }
   ],
   "source": [
    "#(14) Create a time-series dataset in a Pandas DataFrame with columns: 'Date', 'Temperature', 'Humidity' and \n",
    "#Perform the following tasks using Matplotlib\n",
    "date_range = pd.date_range(start=\"2/1/2024\",end=\"2/10/2024\")\n",
    "Temrature = np.random.randint(20,40,size=10)\n",
    "humidity = np.random.randint(50,100,size=10)\n",
    "T_S_df = pd.DataFrame({\n",
    "    'Date':date_range,\n",
    "    'Temperature':Temrature,\n",
    "    'Humidity':humidity\n",
    "})\n",
    "#a) Plot the 'Temperature' and 'Humidity' on the same plot with different y-axes (left y-axis for 'Temperature' and \n",
    "#right y-axis for 'Humidity').\n",
    "figur,ax1 = plt.subplots(figsize=(10,5))\n",
    "ax1.plot(T_S_df[\"Date\"],T_S_df[\"Temperature\"],label=\"Tempratue\",color=\"g\")\n",
    "#b) Label the x-axis as 'Date'.\n",
    "ax1.set_xlabel(\"Date\")\n",
    "ax1.set_ylabel(\"Tremprature\",color=\"g\")\n",
    "ax1.tick_params(axis=\"y\",labelcolor=\"g\")\n",
    "ax2 = ax1.twinx()\n",
    "ax2.plot(T_S_df[\"Date\"],T_S_df[\"Humidity\"],label=\"Humidity\",color=\"Red\")\n",
    "ax2.set_ylabel(\"Humidity\",color=\"r\")\n",
    "ax2.tick_params(axis=\"y\",labelcolor=\"r\")\n",
    "#c) Set the title of the Plot as 'TemPerature and Humidity Over Time\n",
    "plt.title('Temperature and Humidity Over Time')\n",
    "plt.show()\n"
   ]
  },
  {
   "cell_type": "code",
   "execution_count": 37,
   "metadata": {},
   "outputs": [
    {
     "data": {
      "image/png": "[encoded data removed]",
      "text/plain": [
       "<Figure size 640x480 with 1 Axes>"
      ]
     },
     "metadata": {},
     "output_type": "display_data"
    }
   ],
   "source": [
    "#(15) Create a NumPy array data containing 1000 samples from a normal distribution. Perform the following \n",
    "#tasks using Matplotlib:\n",
    "data = np.random.normal(loc=0,scale=1,size=1000)\n",
    "#a) Plot a histogram of the data with 30 bins.\n",
    "plt.hist(data,density=True,bins=30,edgecolor=\"black\",alpha=0.5)\n",
    "#b) Overlay a line Plot rePresenting the normal distribution's Probability density function (PDF).\n",
    "x = np.linspace(-4,4,1000)\n",
    "y = np.exp(-x**2/2)/ np.sqrt(2*np.pi)\n",
    "plt.plot(x,y,\"m--\",linewidth=1.5)\n",
    "#c) Label the x-axis as 'Value' and the y-axis as 'Frequency/Probability'\n",
    "plt.xlabel('Value')\n",
    "plt.ylabel('Frequency/Probability')\n",
    "#d) Set the title of the plot as 'Histogram with PDF Overlay'.\n",
    "plt.title('Histogram with PDF Overlay')\n",
    "#display\n",
    "plt.show()\n"
   ]
  },
  {
   "cell_type": "code",
   "execution_count": 38,
   "metadata": {},
   "outputs": [
    {
     "data": {
      "text/plain": [
       "Text(0.5, 1.0, 'Histogram with PDF Overlay')"
      ]
     },
     "execution_count": 38,
     "metadata": {},
     "output_type": "execute_result"
    },
    {
     "data": {
      "image/png": "[encoded data removed]",
      "text/plain": [
       "<Figure size 640x480 with 1 Axes>"
      ]
     },
     "metadata": {},
     "output_type": "display_data"
    }
   ],
   "source": [
    "#(16) Set the title of the plot as 'Histogram with PDF Overlay'.\n",
    "plt.title('Histogram with PDF Overlay')"
   ]
  },
  {
   "cell_type": "code",
   "execution_count": 39,
   "metadata": {},
   "outputs": [
    {
     "data": {
      "image/png": "[encoded data removed]",
      "text/plain": [
       "<Figure size 800x800 with 1 Axes>"
      ]
     },
     "metadata": {},
     "output_type": "display_data"
    }
   ],
   "source": [
    "#(17) Create a Seaborn scatter plot of two random arrays, color points based on their position relative to the \n",
    "#origin (quadrants), add a legend, label the axes, and set the title as 'Quadrant-wise Scatter Plot'.\n",
    "x = np.random.randn(1000)\n",
    "y = np.random.randn(1000)\n",
    "plt.figure(figsize=(8,8))\n",
    "sns.scatterplot(x=x,y=y,hue=np.sign(x)*np.sign(y),palette={1:\"blue\",-1:\"c\"})\n",
    "#add a legend\n",
    "plt.legend(title=\"Quadrant\",labels=[\"I\",\"II\",\"III\",\"IV\"],loc='upper left')\n",
    "#label_The_axis\n",
    "plt.xlabel(\"X-Axis\")\n",
    "plt.ylabel(\"Y-Axis\")\n",
    "#Giving Titel\n",
    "plt.title('Quadrant-wise Scatter Plot')\n",
    "#display\n",
    "plt.show()"
   ]
  },
  {
   "cell_type": "code",
   "execution_count": 40,
   "metadata": {},
   "outputs": [
    {
     "data": {
      "text/html": [
       "    <style>\n",
       "        .bk-notebook-logo {\n",
       "            display: block;\n",
       "            width: 20px;\n",
       "            height: 20px;\n",
       "            background-image: url(data:image/png;base64,iVBORw0KGgoAAAANSUhEUgAAABQAAAAUCAYAAACNiR0NAAAABHNCSVQICAgIfAhkiAAAAAlwSFlzAAALEgAACxIB0t1+/AAAABx0RVh0U29mdHdhcmUAQWRvYmUgRmlyZXdvcmtzIENTNui8sowAAAOkSURBVDiNjZRtaJVlGMd/1/08zzln5zjP1LWcU9N0NkN8m2CYjpgQYQXqSs0I84OLIC0hkEKoPtiH3gmKoiJDU7QpLgoLjLIQCpEsNJ1vqUOdO7ppbuec5+V+rj4ctwzd8IIbbi6u+8f1539dt3A78eXC7QizUF7gyV1fD1Yqg4JWz84yffhm0qkFqBogB9rM8tZdtwVsPUhWhGcFJngGeWrPzHm5oaMmkfEg1usvLFyc8jLRqDOMru7AyC8saQr7GG7f5fvDeH7Ej8CM66nIF+8yngt6HWaKh7k49Soy9nXurCi1o3qUbS3zWfrYeQDTB/Qj6kX6Ybhw4B+bOYoLKCC9H3Nu/leUTZ1JdRWkkn2ldcCamzrcf47KKXdAJllSlxAOkRgyHsGC/zRday5Qld9DyoM4/q/rUoy/CXh3jzOu3bHUVZeU+DEn8FInkPBFlu3+nW3Nw0mk6vCDiWg8CeJaxEwuHS3+z5RgY+YBR6V1Z1nxSOfoaPa4LASWxxdNp+VWTk7+4vzaou8v8PN+xo+KY2xsw6une2frhw05CTYOmQvsEhjhWjn0bmXPjpE1+kplmmkP3suftwTubK9Vq22qKmrBhpY4jvd5afdRA3wGjFAgcnTK2s4hY0/GPNIb0nErGMCRxWOOX64Z8RAC4oCXdklmEvcL8o0BfkNK4lUg9HTl+oPlQxdNo3Mg4Nv175e/1LDGzZen30MEjRUtmXSfiTVu1kK8W4txyV6BMKlbgk3lMwYCiusNy9fVfvvwMxv8Ynl6vxoByANLTWplvuj/nF9m2+PDtt1eiHPBr1oIfhCChQMBw6Aw0UulqTKZdfVvfG7VcfIqLG9bcldL/+pdWTLxLUy8Qq38heUIjh4XlzZxzQm19lLFlr8vdQ97rjZVOLf8nclzckbcD4wxXMidpX30sFd37Fv/GtwwhzhxGVAprjbg0gCAEeIgwCZyTV2Z1REEW8O4py0wsjeloKoMr6iCY6dP92H6Vw/oTyICIthibxjm/DfN9lVz8IqtqKYLUXfoKVMVQVVJOElGjrnnUt9T9wbgp8AyYKaGlqingHZU/uG2NTZSVqwHQTWkx9hxjkpWDaCg6Ckj5qebgBVbT3V3NNXMSiWSDdGV3hrtzla7J+duwPOToIg42ChPQOQjspnSlp1V+Gjdged7+8UN5CRAV7a5EdFNwCjEaBR27b3W890TE7g24NAP/mMDXRWrGoFPQI9ls/MWO2dWFAar/xcOIImbbpA3zgAAAABJRU5ErkJggg==);\n",
       "        }\n",
       "    </style>\n",
       "    <div>\n",
       "        <a href=\"https://bokeh.org\" target=\"_blank\" class=\"bk-notebook-logo\"></a>\n",
       "        <span id=\"c98e429a-11cc-4c3e-988b-64706438bf7b\">Loading BokehJS ...</span>\n",
       "    </div>\n"
      ]
     },
     "metadata": {},
     "output_type": "display_data"
    },
    {
     "data": {
      "application/javascript": "(function(root) {\n  function now() {\n    return new Date();\n  }\n\n  const force = true;\n\n  if (typeof root._bokeh_onload_callbacks === \"undefined\" || force === true) {\n    root._bokeh_onload_callbacks = [];\n    root._bokeh_is_loading = undefined;\n  }\n\nconst JS_MIME_TYPE = 'application/javascript';\n  const HTML_MIME_TYPE = 'text/html';\n  const EXEC_MIME_TYPE = 'application/vnd.bokehjs_exec.v0+json';\n  const CLASS_NAME = 'output_bokeh rendered_html';\n\n  /**\n   * Render data to the DOM node\n   */\n  function render(props, node) {\n    const script = document.createElement(\"script\");\n    node.appendChild(script);\n  }\n\n  /**\n   * Handle when an output is cleared or removed\n   */\n  function handleClearOutput(event, handle) {\n    function drop(id) {\n      const view = Bokeh.index.get_by_id(id)\n      if (view != null) {\n        view.model.document.clear()\n        Bokeh.index.delete(view)\n      }\n    }\n\n    const cell = handle.cell;\n\n    const id = cell.output_area._bokeh_element_id;\n    const server_id = cell.output_area._bokeh_server_id;\n\n    // Clean up Bokeh references\n    if (id != null) {\n      drop(id)\n    }\n\n    if (server_id !== undefined) {\n      // Clean up Bokeh references\n      const cmd_clean = \"from bokeh.io.state import curstate; print(curstate().uuid_to_server['\" + server_id + \"'].get_sessions()[0].document.roots[0]._id)\";\n      cell.notebook.kernel.execute(cmd_clean, {\n        iopub: {\n          output: function(msg) {\n            const id = msg.content.text.trim()\n            drop(id)\n          }\n        }\n      });\n      // Destroy server and session\n      const cmd_destroy = \"import bokeh.io.notebook as ion; ion.destroy_server('\" + server_id + \"')\";\n      cell.notebook.kernel.execute(cmd_destroy);\n    }\n  }\n\n  /**\n   * Handle when a new output is added\n   */\n  function handleAddOutput(event, handle) {\n    const output_area = handle.output_area;\n    const output = handle.output;\n\n    // limit handleAddOutput to display_data with EXEC_MIME_TYPE content only\n    if ((output.output_type != \"display_data\") || (!Object.prototype.hasOwnProperty.call(output.data, EXEC_MIME_TYPE))) {\n      return\n    }\n\n    const toinsert = output_area.element.find(\".\" + CLASS_NAME.split(' ')[0]);\n\n    if (output.metadata[EXEC_MIME_TYPE][\"id\"] !== undefined) {\n      toinsert[toinsert.length - 1].firstChild.textContent = output.data[JS_MIME_TYPE];\n      // store reference to embed id on output_area\n      output_area._bokeh_element_id = output.metadata[EXEC_MIME_TYPE][\"id\"];\n    }\n    if (output.metadata[EXEC_MIME_TYPE][\"server_id\"] !== undefined) {\n      const bk_div = document.createElement(\"div\");\n      bk_div.innerHTML = output.data[HTML_MIME_TYPE];\n      const script_attrs = bk_div.children[0].attributes;\n      for (let i = 0; i < script_attrs.length; i++) {\n        toinsert[toinsert.length - 1].firstChild.setAttribute(script_attrs[i].name, script_attrs[i].value);\n        toinsert[toinsert.length - 1].firstChild.textContent = bk_div.children[0].textContent\n      }\n      // store reference to server id on output_area\n      output_area._bokeh_server_id = output.metadata[EXEC_MIME_TYPE][\"server_id\"];\n    }\n  }\n\n  function register_renderer(events, OutputArea) {\n\n    function append_mime(data, metadata, element) {\n      // create a DOM node to render to\n      const toinsert = this.create_output_subarea(\n        metadata,\n        CLASS_NAME,\n        EXEC_MIME_TYPE\n      );\n      this.keyboard_manager.register_events(toinsert);\n      // Render to node\n      const props = {data: data, metadata: metadata[EXEC_MIME_TYPE]};\n      render(props, toinsert[toinsert.length - 1]);\n      element.append(toinsert);\n      return toinsert\n    }\n\n    /* Handle when an output is cleared or removed */\n    events.on('clear_output.CodeCell', handleClearOutput);\n    events.on('delete.Cell', handleClearOutput);\n\n    /* Handle when a new output is added */\n    events.on('output_added.OutputArea', handleAddOutput);\n\n    /**\n     * Register the mime type and append_mime function with output_area\n     */\n    OutputArea.prototype.register_mime_type(EXEC_MIME_TYPE, append_mime, {\n      /* Is output safe? */\n      safe: true,\n      /* Index of renderer in `output_area.display_order` */\n      index: 0\n    });\n  }\n\n  // register the mime type if in Jupyter Notebook environment and previously unregistered\n  if (root.Jupyter !== undefined) {\n    const events = require('base/js/events');\n    const OutputArea = require('notebook/js/outputarea').OutputArea;\n\n    if (OutputArea.prototype.mime_types().indexOf(EXEC_MIME_TYPE) == -1) {\n      register_renderer(events, OutputArea);\n    }\n  }\n  if (typeof (root._bokeh_timeout) === \"undefined\" || force === true) {\n    root._bokeh_timeout = Date.now() + 5000;\n    root._bokeh_failed_load = false;\n  }\n\n  const NB_LOAD_WARNING = {'data': {'text/html':\n     \"<div style='background-color: #fdd'>\\n\"+\n     \"<p>\\n\"+\n     \"BokehJS does not appear to have successfully loaded. If loading BokehJS from CDN, this \\n\"+\n     \"may be due to a slow or bad network connection. Possible fixes:\\n\"+\n     \"</p>\\n\"+\n     \"<ul>\\n\"+\n     \"<li>re-rerun `output_notebook()` to attempt to load from CDN again, or</li>\\n\"+\n     \"<li>use INLINE resources instead, as so:</li>\\n\"+\n     \"</ul>\\n\"+\n     \"<code>\\n\"+\n     \"from bokeh.resources import INLINE\\n\"+\n     \"output_notebook(resources=INLINE)\\n\"+\n     \"</code>\\n\"+\n     \"</div>\"}};\n\n  function display_loaded() {\n    const el = document.getElementById(\"c98e429a-11cc-4c3e-988b-64706438bf7b\");\n    if (el != null) {\n      el.textContent = \"BokehJS is loading...\";\n    }\n    if (root.Bokeh !== undefined) {\n      if (el != null) {\n        el.textContent = \"BokehJS \" + root.Bokeh.version + \" successfully loaded.\";\n      }\n    } else if (Date.now() < root._bokeh_timeout) {\n      setTimeout(display_loaded, 100)\n    }\n  }\n\n  function run_callbacks() {\n    try {\n      root._bokeh_onload_callbacks.forEach(function(callback) {\n        if (callback != null)\n          callback();\n      });\n    } finally {\n      delete root._bokeh_onload_callbacks\n    }\n    console.debug(\"Bokeh: all callbacks have finished\");\n  }\n\n  function load_libs(css_urls, js_urls, callback) {\n    if (css_urls == null) css_urls = [];\n    if (js_urls == null) js_urls = [];\n\n    root._bokeh_onload_callbacks.push(callback);\n    if (root._bokeh_is_loading > 0) {\n      console.debug(\"Bokeh: BokehJS is being loaded, scheduling callback at\", now());\n      return null;\n    }\n    if (js_urls == null || js_urls.length === 0) {\n      run_callbacks();\n      return null;\n    }\n    console.debug(\"Bokeh: BokehJS not loaded, scheduling load and callback at\", now());\n    root._bokeh_is_loading = css_urls.length + js_urls.length;\n\n    function on_load() {\n      root._bokeh_is_loading--;\n      if (root._bokeh_is_loading === 0) {\n        console.debug(\"Bokeh: all BokehJS libraries/stylesheets loaded\");\n        run_callbacks()\n      }\n    }\n\n    function on_error(url) {\n      console.error(\"failed to load \" + url);\n    }\n\n    for (let i = 0; i < css_urls.length; i++) {\n      const url = css_urls[i];\n      const element = document.createElement(\"link\");\n      element.onload = on_load;\n      element.onerror = on_error.bind(null, url);\n      element.rel = \"stylesheet\";\n      element.type = \"text/css\";\n      element.href = url;\n      console.debug(\"Bokeh: injecting link tag for BokehJS stylesheet: \", url);\n      document.body.appendChild(element);\n    }\n\n    for (let i = 0; i < js_urls.length; i++) {\n      const url = js_urls[i];\n      const element = document.createElement('script');\n      element.onload = on_load;\n      element.onerror = on_error.bind(null, url);\n      element.async = false;\n      element.src = url;\n      console.debug(\"Bokeh: injecting script tag for BokehJS library: \", url);\n      document.head.appendChild(element);\n    }\n  };\n\n  function inject_raw_css(css) {\n    const element = document.createElement(\"style\");\n    element.appendChild(document.createTextNode(css));\n    document.body.appendChild(element);\n  }\n\n  const js_urls = [\"https://cdn.bokeh.org/bokeh/release/bokeh-3.3.4.min.js\", \"https://cdn.bokeh.org/bokeh/release/bokeh-gl-3.3.4.min.js\", \"https://cdn.bokeh.org/bokeh/release/bokeh-widgets-3.3.4.min.js\", \"https://cdn.bokeh.org/bokeh/release/bokeh-tables-3.3.4.min.js\", \"https://cdn.bokeh.org/bokeh/release/bokeh-mathjax-3.3.4.min.js\"];\n  const css_urls = [];\n\n  const inline_js = [    function(Bokeh) {\n      Bokeh.set_log_level(\"info\");\n    },\nfunction(Bokeh) {\n    }\n  ];\n\n  function run_inline_js() {\n    if (root.Bokeh !== undefined || force === true) {\n          for (let i = 0; i < inline_js.length; i++) {\n      inline_js[i].call(root, root.Bokeh);\n    }\nif (force === true) {\n        display_loaded();\n      }} else if (Date.now() < root._bokeh_timeout) {\n      setTimeout(run_inline_js, 100);\n    } else if (!root._bokeh_failed_load) {\n      console.log(\"Bokeh: BokehJS failed to load within specified timeout.\");\n      root._bokeh_failed_load = true;\n    } else if (force !== true) {\n      const cell = $(document.getElementById(\"c98e429a-11cc-4c3e-988b-64706438bf7b\")).parents('.cell').data().cell;\n      cell.output_area.append_execute_result(NB_LOAD_WARNING)\n    }\n  }\n\n  if (root._bokeh_is_loading === 0) {\n    console.debug(\"Bokeh: BokehJS loaded, going straight to plotting\");\n    run_inline_js();\n  } else {\n    load_libs(css_urls, js_urls, function() {\n      console.debug(\"Bokeh: BokehJS plotting callback run at\", now());\n      run_inline_js();\n    });\n  }\n}(window));",
      "application/vnd.bokehjs_load.v0+json": ""
     },
     "metadata": {},
     "output_type": "display_data"
    },
    {
     "data": {
      "text/html": [
       "\n",
       "  <div id=\"d5968789-b856-48e4-9258-fca5aea4a9b6\" data-root-id=\"p1001\" style=\"display: contents;\"></div>\n"
      ]
     },
     "metadata": {},
     "output_type": "display_data"
    },
    {
     "data": {
      "application/javascript": "(function(root) {\n  function embed_document(root) {\n  const docs_json = {\"57446b3b-1456-4c98-bd5f-d4829fa77a92\":{\"version\":\"3.3.4\",\"title\":\"Bokeh Application\",\"roots\":[{\"type\":\"object\",\"name\":\"Figure\",\"id\":\"p1001\",\"attributes\":{\"x_range\":{\"type\":\"object\",\"name\":\"DataRange1d\",\"id\":\"p1002\"},\"y_range\":{\"type\":\"object\",\"name\":\"DataRange1d\",\"id\":\"p1003\"},\"x_scale\":{\"type\":\"object\",\"name\":\"LinearScale\",\"id\":\"p1011\"},\"y_scale\":{\"type\":\"object\",\"name\":\"LinearScale\",\"id\":\"p1012\"},\"title\":{\"type\":\"object\",\"name\":\"Title\",\"id\":\"p1004\",\"attributes\":{\"text\":\"Sine Wave Function\"}},\"renderers\":[{\"type\":\"object\",\"name\":\"GlyphRenderer\",\"id\":\"p1040\",\"attributes\":{\"data_source\":{\"type\":\"object\",\"name\":\"ColumnDataSource\",\"id\":\"p1034\",\"attributes\":{\"selected\":{\"type\":\"object\",\"name\":\"Selection\",\"id\":\"p1035\",\"attributes\":{\"indices\":[],\"line_indices\":[]}},\"selection_policy\":{\"type\":\"object\",\"name\":\"UnionRenderers\",\"id\":\"p1036\"},\"data\":{\"type\":\"map\",\"entries\":[[\"x\",{\"type\":\"ndarray\",\"array\":{\"type\":\"bytes\",\"data\":\"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\"},\"shape\":[400],\"dtype\":\"float64\",\"order\":\"little\"}],[\"y\",{\"type\":\"ndarray\",\"array\":{\"type\":\"bytes\",\"data\":\"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\"},\"shape\":[400],\"dtype\":\"float64\",\"order\":\"little\"}]]}}},\"view\":{\"type\":\"object\",\"name\":\"CDSView\",\"id\":\"p1041\",\"attributes\":{\"filter\":{\"type\":\"object\",\"name\":\"AllIndices\",\"id\":\"p1042\"}}},\"glyph\":{\"type\":\"object\",\"name\":\"Line\",\"id\":\"p1037\",\"attributes\":{\"x\":{\"type\":\"field\",\"field\":\"x\"},\"y\":{\"type\":\"field\",\"field\":\"y\"},\"line_color\":\"#1f77b4\",\"line_width\":2}},\"nonselection_glyph\":{\"type\":\"object\",\"name\":\"Line\",\"id\":\"p1038\",\"attributes\":{\"x\":{\"type\":\"field\",\"field\":\"x\"},\"y\":{\"type\":\"field\",\"field\":\"y\"},\"line_color\":\"#1f77b4\",\"line_alpha\":0.1,\"line_width\":2}},\"muted_glyph\":{\"type\":\"object\",\"name\":\"Line\",\"id\":\"p1039\",\"attributes\":{\"x\":{\"type\":\"field\",\"field\":\"x\"},\"y\":{\"type\":\"field\",\"field\":\"y\"},\"line_color\":\"#1f77b4\",\"line_alpha\":0.2,\"line_width\":2}}}}],\"toolbar\":{\"type\":\"object\",\"name\":\"Toolbar\",\"id\":\"p1010\",\"attributes\":{\"tools\":[{\"type\":\"object\",\"name\":\"PanTool\",\"id\":\"p1023\"},{\"type\":\"object\",\"name\":\"WheelZoomTool\",\"id\":\"p1024\",\"attributes\":{\"renderers\":\"auto\"}},{\"type\":\"object\",\"name\":\"BoxZoomTool\",\"id\":\"p1025\",\"attributes\":{\"overlay\":{\"type\":\"object\",\"name\":\"BoxAnnotation\",\"id\":\"p1026\",\"attributes\":{\"syncable\":false,\"level\":\"overlay\",\"visible\":false,\"left\":{\"type\":\"number\",\"value\":\"nan\"},\"right\":{\"type\":\"number\",\"value\":\"nan\"},\"top\":{\"type\":\"number\",\"value\":\"nan\"},\"bottom\":{\"type\":\"number\",\"value\":\"nan\"},\"left_units\":\"canvas\",\"right_units\":\"canvas\",\"top_units\":\"canvas\",\"bottom_units\":\"canvas\",\"line_color\":\"black\",\"line_alpha\":1.0,\"line_width\":2,\"line_dash\":[4,4],\"fill_color\":\"lightgrey\",\"fill_alpha\":0.5}}}},{\"type\":\"object\",\"name\":\"SaveTool\",\"id\":\"p1031\"},{\"type\":\"object\",\"name\":\"ResetTool\",\"id\":\"p1032\"},{\"type\":\"object\",\"name\":\"HelpTool\",\"id\":\"p1033\"}]}},\"left\":[{\"type\":\"object\",\"name\":\"LinearAxis\",\"id\":\"p1018\",\"attributes\":{\"ticker\":{\"type\":\"object\",\"name\":\"BasicTicker\",\"id\":\"p1019\",\"attributes\":{\"mantissas\":[1,2,5]}},\"formatter\":{\"type\":\"object\",\"name\":\"BasicTickFormatter\",\"id\":\"p1020\"},\"axis_label\":\"sin(x)\",\"major_label_policy\":{\"type\":\"object\",\"name\":\"AllLabels\",\"id\":\"p1021\"}}}],\"below\":[{\"type\":\"object\",\"name\":\"LinearAxis\",\"id\":\"p1013\",\"attributes\":{\"ticker\":{\"type\":\"object\",\"name\":\"BasicTicker\",\"id\":\"p1014\",\"attributes\":{\"mantissas\":[1,2,5]}},\"formatter\":{\"type\":\"object\",\"name\":\"BasicTickFormatter\",\"id\":\"p1015\"},\"axis_label\":\"x\",\"major_label_policy\":{\"type\":\"object\",\"name\":\"AllLabels\",\"id\":\"p1016\"}}}],\"center\":[{\"type\":\"object\",\"name\":\"Grid\",\"id\":\"p1017\",\"attributes\":{\"axis\":{\"id\":\"p1013\"},\"grid_line_color\":\"navy\",\"grid_line_width\":2}},{\"type\":\"object\",\"name\":\"Grid\",\"id\":\"p1022\",\"attributes\":{\"dimension\":1,\"axis\":{\"id\":\"p1018\"},\"grid_line_color\":\"navy\",\"grid_line_width\":2}},{\"type\":\"object\",\"name\":\"Legend\",\"id\":\"p1043\",\"attributes\":{\"items\":[{\"type\":\"object\",\"name\":\"LegendItem\",\"id\":\"p1044\",\"attributes\":{\"label\":{\"type\":\"value\",\"value\":\"sin(x)\"},\"renderers\":[{\"id\":\"p1040\"}]}}]}}]}}]}};\n  const render_items = [{\"docid\":\"57446b3b-1456-4c98-bd5f-d4829fa77a92\",\"roots\":{\"p1001\":\"d5968789-b856-48e4-9258-fca5aea4a9b6\"},\"root_ids\":[\"p1001\"]}];\n  root.Bokeh.embed.embed_items_notebook(docs_json, render_items);\n  }\n  if (root.Bokeh !== undefined) {\n    embed_document(root);\n  } else {\n    let attempts = 0;\n    const timer = setInterval(function(root) {\n      if (root.Bokeh !== undefined) {\n        clearInterval(timer);\n        embed_document(root);\n      } else {\n        attempts++;\n        if (attempts > 100) {\n          clearInterval(timer);\n          console.log(\"Bokeh: ERROR: Unable to run BokehJS code because BokehJS library is missing\");\n        }\n      }\n    }, 10, root)\n  }\n})(window);",
      "application/vnd.bokehjs_exec.v0+json": ""
     },
     "metadata": {
      "application/vnd.bokehjs_exec.v0+json": {
       "id": "p1001"
      }
     },
     "output_type": "display_data"
    }
   ],
   "source": [
    "#(18) With Bokeh, plot a line chart of a sine wave function, add grid lines, label the axes, and set the title as 'Sine \n",
    "# Wave Function'\n",
    "import numpy as np\n",
    "from bokeh.plotting import figure, show\n",
    "from bokeh.io import output_notebook\n",
    "output_notebook()\n",
    "p = figure(title=\"Sine Wave Function\",x_axis_label=\"x\",y_axis_label=\"sin(x)\")\n",
    "#Genarte X values\n",
    "x = np.linspace(-2*np.pi,2*np.pi,400)\n",
    "#Genarte Y values\n",
    "y = np.sin(x)\n",
    "#Add a Line Glaph TO the figure\n",
    "p.line(x, y, legend_label='sin(x)', line_width=2)\n",
    "#Add Grid Line\n",
    "p.xgrid.grid_line_color = 'navy'\n",
    "p.ygrid.grid_line_color = 'navy'\n",
    "p.xgrid.grid_line_width = 2\n",
    "p.ygrid.grid_line_width = 2\n",
    "#display\n",
    "show(p)"
   ]
  },
  {
   "cell_type": "code",
   "execution_count": 41,
   "metadata": {},
   "outputs": [
    {
     "data": {
      "text/html": [
       "\n",
       "  <div id=\"df1b770d-5776-4922-8729-de029e37093b\" data-root-id=\"p1047\" style=\"display: contents;\"></div>\n"
      ]
     },
     "metadata": {},
     "output_type": "display_data"
    },
    {
     "data": {
      "application/javascript": "(function(root) {\n  function embed_document(root) {\n  const docs_json = {\"42d39b76-2e9f-4ee2-96f2-fbed8aff333b\":{\"version\":\"3.3.4\",\"title\":\"Bokeh Application\",\"roots\":[{\"type\":\"object\",\"name\":\"Figure\",\"id\":\"p1047\",\"attributes\":{\"x_range\":{\"type\":\"object\",\"name\":\"FactorRange\",\"id\":\"p1057\",\"attributes\":{\"factors\":[\"A\",\"B\",\"C\",\"D\",\"E\"]}},\"y_range\":{\"type\":\"object\",\"name\":\"DataRange1d\",\"id\":\"p1049\"},\"x_scale\":{\"type\":\"object\",\"name\":\"CategoricalScale\",\"id\":\"p1058\"},\"y_scale\":{\"type\":\"object\",\"name\":\"LinearScale\",\"id\":\"p1059\"},\"title\":{\"type\":\"object\",\"name\":\"Title\",\"id\":\"p1050\",\"attributes\":{\"text\":\"Random Categorical Bar Chart\"}},\"renderers\":[{\"type\":\"object\",\"name\":\"GlyphRenderer\",\"id\":\"p1087\",\"attributes\":{\"data_source\":{\"type\":\"object\",\"name\":\"ColumnDataSource\",\"id\":\"p1081\",\"attributes\":{\"selected\":{\"type\":\"object\",\"name\":\"Selection\",\"id\":\"p1082\",\"attributes\":{\"indices\":[],\"line_indices\":[]}},\"selection_policy\":{\"type\":\"object\",\"name\":\"UnionRenderers\",\"id\":\"p1083\"},\"data\":{\"type\":\"map\",\"entries\":[[\"x\",[\"A\",\"B\",\"C\",\"D\",\"E\"]],[\"top\",{\"type\":\"ndarray\",\"array\":{\"type\":\"bytes\",\"data\":\"YwAAAAEAAAA+AAAAXwAAAEYAAAA=\"},\"shape\":[5],\"dtype\":\"int32\",\"order\":\"little\"}]]}}},\"view\":{\"type\":\"object\",\"name\":\"CDSView\",\"id\":\"p1088\",\"attributes\":{\"filter\":{\"type\":\"object\",\"name\":\"AllIndices\",\"id\":\"p1089\"}}},\"glyph\":{\"type\":\"object\",\"name\":\"VBar\",\"id\":\"p1084\",\"attributes\":{\"x\":{\"type\":\"field\",\"field\":\"x\"},\"width\":{\"type\":\"value\",\"value\":0.9},\"top\":{\"type\":\"field\",\"field\":\"top\"},\"line_color\":{\"type\":\"value\",\"value\":\"#1f77b4\"},\"fill_color\":{\"type\":\"value\",\"value\":\"#1f77b4\"}}},\"nonselection_glyph\":{\"type\":\"object\",\"name\":\"VBar\",\"id\":\"p1085\",\"attributes\":{\"x\":{\"type\":\"field\",\"field\":\"x\"},\"width\":{\"type\":\"value\",\"value\":0.9},\"top\":{\"type\":\"field\",\"field\":\"top\"},\"line_color\":{\"type\":\"value\",\"value\":\"#1f77b4\"},\"line_alpha\":{\"type\":\"value\",\"value\":0.1},\"fill_color\":{\"type\":\"value\",\"value\":\"#1f77b4\"},\"fill_alpha\":{\"type\":\"value\",\"value\":0.1},\"hatch_alpha\":{\"type\":\"value\",\"value\":0.1}}},\"muted_glyph\":{\"type\":\"object\",\"name\":\"VBar\",\"id\":\"p1086\",\"attributes\":{\"x\":{\"type\":\"field\",\"field\":\"x\"},\"width\":{\"type\":\"value\",\"value\":0.9},\"top\":{\"type\":\"field\",\"field\":\"top\"},\"line_color\":{\"type\":\"value\",\"value\":\"#1f77b4\"},\"line_alpha\":{\"type\":\"value\",\"value\":0.2},\"fill_color\":{\"type\":\"value\",\"value\":\"#1f77b4\"},\"fill_alpha\":{\"type\":\"value\",\"value\":0.2},\"hatch_alpha\":{\"type\":\"value\",\"value\":0.2}}}}}],\"toolbar\":{\"type\":\"object\",\"name\":\"Toolbar\",\"id\":\"p1056\",\"attributes\":{\"tools\":[{\"type\":\"object\",\"name\":\"PanTool\",\"id\":\"p1070\"},{\"type\":\"object\",\"name\":\"WheelZoomTool\",\"id\":\"p1071\",\"attributes\":{\"renderers\":\"auto\"}},{\"type\":\"object\",\"name\":\"BoxZoomTool\",\"id\":\"p1072\",\"attributes\":{\"overlay\":{\"type\":\"object\",\"name\":\"BoxAnnotation\",\"id\":\"p1073\",\"attributes\":{\"syncable\":false,\"level\":\"overlay\",\"visible\":false,\"left\":{\"type\":\"number\",\"value\":\"nan\"},\"right\":{\"type\":\"number\",\"value\":\"nan\"},\"top\":{\"type\":\"number\",\"value\":\"nan\"},\"bottom\":{\"type\":\"number\",\"value\":\"nan\"},\"left_units\":\"canvas\",\"right_units\":\"canvas\",\"top_units\":\"canvas\",\"bottom_units\":\"canvas\",\"line_color\":\"black\",\"line_alpha\":1.0,\"line_width\":2,\"line_dash\":[4,4],\"fill_color\":\"lightgrey\",\"fill_alpha\":0.5}}}},{\"type\":\"object\",\"name\":\"SaveTool\",\"id\":\"p1078\"},{\"type\":\"object\",\"name\":\"ResetTool\",\"id\":\"p1079\"},{\"type\":\"object\",\"name\":\"HelpTool\",\"id\":\"p1080\"},{\"type\":\"object\",\"name\":\"HoverTool\",\"id\":\"p1090\",\"attributes\":{\"renderers\":\"auto\",\"tooltips\":[[\"Value\",\"@top\"]]}}]}},\"toolbar_location\":null,\"left\":[{\"type\":\"object\",\"name\":\"LinearAxis\",\"id\":\"p1065\",\"attributes\":{\"ticker\":{\"type\":\"object\",\"name\":\"BasicTicker\",\"id\":\"p1066\",\"attributes\":{\"mantissas\":[1,2,5]}},\"formatter\":{\"type\":\"object\",\"name\":\"BasicTickFormatter\",\"id\":\"p1067\"},\"axis_label\":\"Values\",\"major_label_policy\":{\"type\":\"object\",\"name\":\"AllLabels\",\"id\":\"p1068\"}}}],\"below\":[{\"type\":\"object\",\"name\":\"CategoricalAxis\",\"id\":\"p1060\",\"attributes\":{\"ticker\":{\"type\":\"object\",\"name\":\"CategoricalTicker\",\"id\":\"p1061\"},\"formatter\":{\"type\":\"object\",\"name\":\"CategoricalTickFormatter\",\"id\":\"p1062\"},\"axis_label\":\"Categories\",\"major_label_policy\":{\"type\":\"object\",\"name\":\"AllLabels\",\"id\":\"p1063\"}}}],\"center\":[{\"type\":\"object\",\"name\":\"Grid\",\"id\":\"p1064\",\"attributes\":{\"axis\":{\"id\":\"p1060\"}}},{\"type\":\"object\",\"name\":\"Grid\",\"id\":\"p1069\",\"attributes\":{\"dimension\":1,\"axis\":{\"id\":\"p1065\"}}}]}}]}};\n  const render_items = [{\"docid\":\"42d39b76-2e9f-4ee2-96f2-fbed8aff333b\",\"roots\":{\"p1047\":\"df1b770d-5776-4922-8729-de029e37093b\"},\"root_ids\":[\"p1047\"]}];\n  root.Bokeh.embed.embed_items_notebook(docs_json, render_items);\n  }\n  if (root.Bokeh !== undefined) {\n    embed_document(root);\n  } else {\n    let attempts = 0;\n    const timer = setInterval(function(root) {\n      if (root.Bokeh !== undefined) {\n        clearInterval(timer);\n        embed_document(root);\n      } else {\n        attempts++;\n        if (attempts > 100) {\n          clearInterval(timer);\n          console.log(\"Bokeh: ERROR: Unable to run BokehJS code because BokehJS library is missing\");\n        }\n      }\n    }, 10, root)\n  }\n})(window);",
      "application/vnd.bokehjs_exec.v0+json": ""
     },
     "metadata": {
      "application/vnd.bokehjs_exec.v0+json": {
       "id": "p1047"
      }
     },
     "output_type": "display_data"
    }
   ],
   "source": [
    "#19) Using Bokeh, generate a bar chart of randomly generated categorical data, color bars based on their \n",
    "#values, add hover tooltips to display exact values, label the axes, and set the title as 'Random Categorical \n",
    "#Bar Chart'\n",
    "from bokeh.models import HoverTool\n",
    "output_notebook\n",
    "catogories = [\"A\",\"B\",\"C\",\"D\",\"E\"]\n",
    "values = np.random.randint(1,100,size=len(catogories))\n",
    "# Create a bar chart\n",
    "p = figure(x_range=catogories, title=\"Random Categorical Bar Chart\", toolbar_location=None)\n",
    "# Add bars to the chart\n",
    "p.vbar(x=catogories, top=values, width=0.9,)\n",
    "# Add hover tooltips to display exact values\n",
    "p.add_tools(HoverTool(tooltips=[(\"Value\", \"@top\")]))\n",
    "# Label the axes\n",
    "p.xaxis.axis_label = \"Categories\"\n",
    "p.yaxis.axis_label = \"Values\"\n",
    "show(p)"
   ]
  },
  {
   "cell_type": "code",
   "execution_count": 42,
   "metadata": {},
   "outputs": [
    {
     "data": {
      "application/vnd.plotly.v1+json": {
       "config": {
        "plotlyServerURL": "https://plot.ly"
       },
       "data": [
        {
         "hovertemplate": "x=%{x}<br>y=%{y}<extra></extra>",
         "legendgroup": "",
         "line": {
          "color": "#636efa",
          "dash": "solid"
         },
         "marker": {
          "symbol": "circle"
         },
         "mode": "lines",
         "name": "",
         "orientation": "v",
         "showlegend": false,
         "type": "scatter",
         "x": [
          1,
          2,
          3,
          4,
          5,
          6,
          7,
          8,
          9,
          10
         ],
         "xaxis": "x",
         "y": [
          90,
          15,
          41,
          29,
          21,
          33,
          51,
          27,
          15,
          32
         ],
         "yaxis": "y"
        }
       ],
       "layout": {
        "legend": {
         "tracegroupgap": 0
        },
        "margin": {
         "t": 60
        },
        "template": {
         "data": {
          "bar": [
           {
            "error_x": {
             "color": "#2a3f5f"
            },
            "error_y": {
             "color": "#2a3f5f"
            },
            "marker": {
             "line": {
              "color": "#E5ECF6",
              "width": 0.5
             },
             "pattern": {
              "fillmode": "overlay",
              "size": 10,
              "solidity": 0.2
             }
            },
            "type": "bar"
           }
          ],
          "barpolar": [
           {
            "marker": {
             "line": {
              "color": "#E5ECF6",
              "width": 0.5
             },
             "pattern": {
              "fillmode": "overlay",
              "size": 10,
              "solidity": 0.2
             }
            },
            "type": "barpolar"
           }
          ],
          "carpet": [
           {
            "aaxis": {
             "endlinecolor": "#2a3f5f",
             "gridcolor": "white",
             "linecolor": "white",
             "minorgridcolor": "white",
             "startlinecolor": "#2a3f5f"
            },
            "baxis": {
             "endlinecolor": "#2a3f5f",
             "gridcolor": "white",
             "linecolor": "white",
             "minorgridcolor": "white",
             "startlinecolor": "#2a3f5f"
            },
            "type": "carpet"
           }
          ],
          "choropleth": [
           {
            "colorbar": {
             "outlinewidth": 0,
             "ticks": ""
            },
            "type": "choropleth"
           }
          ],
          "contour": [
           {
            "colorbar": {
             "outlinewidth": 0,
             "ticks": ""
            },
            "colorscale": [
             [
              0,
              "#0d0887"
             ],
             [
              0.1111111111111111,
              "#46039f"
             ],
             [
              0.2222222222222222,
              "#7201a8"
             ],
             [
              0.3333333333333333,
              "#9c179e"
             ],
             [
              0.4444444444444444,
              "#bd3786"
             ],
             [
              0.5555555555555556,
              "#d8576b"
             ],
             [
              0.6666666666666666,
              "#ed7953"
             ],
             [
              0.7777777777777778,
              "#fb9f3a"
             ],
             [
              0.8888888888888888,
              "#fdca26"
             ],
             [
              1,
              "#f0f921"
             ]
            ],
            "type": "contour"
           }
          ],
          "contourcarpet": [
           {
            "colorbar": {
             "outlinewidth": 0,
             "ticks": ""
            },
            "type": "contourcarpet"
           }
          ],
          "heatmap": [
           {
            "colorbar": {
             "outlinewidth": 0,
             "ticks": ""
            },
            "colorscale": [
             [
              0,
              "#0d0887"
             ],
             [
              0.1111111111111111,
              "#46039f"
             ],
             [
              0.2222222222222222,
              "#7201a8"
             ],
             [
              0.3333333333333333,
              "#9c179e"
             ],
             [
              0.4444444444444444,
              "#bd3786"
             ],
             [
              0.5555555555555556,
              "#d8576b"
             ],
             [
              0.6666666666666666,
              "#ed7953"
             ],
             [
              0.7777777777777778,
              "#fb9f3a"
             ],
             [
              0.8888888888888888,
              "#fdca26"
             ],
             [
              1,
              "#f0f921"
             ]
            ],
            "type": "heatmap"
           }
          ],
          "heatmapgl": [
           {
            "colorbar": {
             "outlinewidth": 0,
             "ticks": ""
            },
            "colorscale": [
             [
              0,
              "#0d0887"
             ],
             [
              0.1111111111111111,
              "#46039f"
             ],
             [
              0.2222222222222222,
              "#7201a8"
             ],
             [
              0.3333333333333333,
              "#9c179e"
             ],
             [
              0.4444444444444444,
              "#bd3786"
             ],
             [
              0.5555555555555556,
              "#d8576b"
             ],
             [
              0.6666666666666666,
              "#ed7953"
             ],
             [
              0.7777777777777778,
              "#fb9f3a"
             ],
             [
              0.8888888888888888,
              "#fdca26"
             ],
             [
              1,
              "#f0f921"
             ]
            ],
            "type": "heatmapgl"
           }
          ],
          "histogram": [
           {
            "marker": {
             "pattern": {
              "fillmode": "overlay",
              "size": 10,
              "solidity": 0.2
             }
            },
            "type": "histogram"
           }
          ],
          "histogram2d": [
           {
            "colorbar": {
             "outlinewidth": 0,
             "ticks": ""
            },
            "colorscale": [
             [
              0,
              "#0d0887"
             ],
             [
              0.1111111111111111,
              "#46039f"
             ],
             [
              0.2222222222222222,
              "#7201a8"
             ],
             [
              0.3333333333333333,
              "#9c179e"
             ],
             [
              0.4444444444444444,
              "#bd3786"
             ],
             [
              0.5555555555555556,
              "#d8576b"
             ],
             [
              0.6666666666666666,
              "#ed7953"
             ],
             [
              0.7777777777777778,
              "#fb9f3a"
             ],
             [
              0.8888888888888888,
              "#fdca26"
             ],
             [
              1,
              "#f0f921"
             ]
            ],
            "type": "histogram2d"
           }
          ],
          "histogram2dcontour": [
           {
            "colorbar": {
             "outlinewidth": 0,
             "ticks": ""
            },
            "colorscale": [
             [
              0,
              "#0d0887"
             ],
             [
              0.1111111111111111,
              "#46039f"
             ],
             [
              0.2222222222222222,
              "#7201a8"
             ],
             [
              0.3333333333333333,
              "#9c179e"
             ],
             [
              0.4444444444444444,
              "#bd3786"
             ],
             [
              0.5555555555555556,
              "#d8576b"
             ],
             [
              0.6666666666666666,
              "#ed7953"
             ],
             [
              0.7777777777777778,
              "#fb9f3a"
             ],
             [
              0.8888888888888888,
              "#fdca26"
             ],
             [
              1,
              "#f0f921"
             ]
            ],
            "type": "histogram2dcontour"
           }
          ],
          "mesh3d": [
           {
            "colorbar": {
             "outlinewidth": 0,
             "ticks": ""
            },
            "type": "mesh3d"
           }
          ],
          "parcoords": [
           {
            "line": {
             "colorbar": {
              "outlinewidth": 0,
              "ticks": ""
             }
            },
            "type": "parcoords"
           }
          ],
          "pie": [
           {
            "automargin": true,
            "type": "pie"
           }
          ],
          "scatter": [
           {
            "fillpattern": {
             "fillmode": "overlay",
             "size": 10,
             "solidity": 0.2
            },
            "type": "scatter"
           }
          ],
          "scatter3d": [
           {
            "line": {
             "colorbar": {
              "outlinewidth": 0,
              "ticks": ""
             }
            },
            "marker": {
             "colorbar": {
              "outlinewidth": 0,
              "ticks": ""
             }
            },
            "type": "scatter3d"
           }
          ],
          "scattercarpet": [
           {
            "marker": {
             "colorbar": {
              "outlinewidth": 0,
              "ticks": ""
             }
            },
            "type": "scattercarpet"
           }
          ],
          "scattergeo": [
           {
            "marker": {
             "colorbar": {
              "outlinewidth": 0,
              "ticks": ""
             }
            },
            "type": "scattergeo"
           }
          ],
          "scattergl": [
           {
            "marker": {
             "colorbar": {
              "outlinewidth": 0,
              "ticks": ""
             }
            },
            "type": "scattergl"
           }
          ],
          "scattermapbox": [
           {
            "marker": {
             "colorbar": {
              "outlinewidth": 0,
              "ticks": ""
             }
            },
            "type": "scattermapbox"
           }
          ],
          "scatterpolar": [
           {
            "marker": {
             "colorbar": {
              "outlinewidth": 0,
              "ticks": ""
             }
            },
            "type": "scatterpolar"
           }
          ],
          "scatterpolargl": [
           {
            "marker": {
             "colorbar": {
              "outlinewidth": 0,
              "ticks": ""
             }
            },
            "type": "scatterpolargl"
           }
          ],
          "scatterternary": [
           {
            "marker": {
             "colorbar": {
              "outlinewidth": 0,
              "ticks": ""
             }
            },
            "type": "scatterternary"
           }
          ],
          "surface": [
           {
            "colorbar": {
             "outlinewidth": 0,
             "ticks": ""
            },
            "colorscale": [
             [
              0,
              "#0d0887"
             ],
             [
              0.1111111111111111,
              "#46039f"
             ],
             [
              0.2222222222222222,
              "#7201a8"
             ],
             [
              0.3333333333333333,
              "#9c179e"
             ],
             [
              0.4444444444444444,
              "#bd3786"
             ],
             [
              0.5555555555555556,
              "#d8576b"
             ],
             [
              0.6666666666666666,
              "#ed7953"
             ],
             [
              0.7777777777777778,
              "#fb9f3a"
             ],
             [
              0.8888888888888888,
              "#fdca26"
             ],
             [
              1,
              "#f0f921"
             ]
            ],
            "type": "surface"
           }
          ],
          "table": [
           {
            "cells": {
             "fill": {
              "color": "#EBF0F8"
             },
             "line": {
              "color": "white"
             }
            },
            "header": {
             "fill": {
              "color": "#C8D4E3"
             },
             "line": {
              "color": "white"
             }
            },
            "type": "table"
           }
          ]
         },
         "layout": {
          "annotationdefaults": {
           "arrowcolor": "#2a3f5f",
           "arrowhead": 0,
           "arrowwidth": 1
          },
          "autotypenumbers": "strict",
          "coloraxis": {
           "colorbar": {
            "outlinewidth": 0,
            "ticks": ""
           }
          },
          "colorscale": {
           "diverging": [
            [
             0,
             "#8e0152"
            ],
            [
             0.1,
             "#c51b7d"
            ],
            [
             0.2,
             "#de77ae"
            ],
            [
             0.3,
             "#f1b6da"
            ],
            [
             0.4,
             "#fde0ef"
            ],
            [
             0.5,
             "#f7f7f7"
            ],
            [
             0.6,
             "#e6f5d0"
            ],
            [
             0.7,
             "#b8e186"
            ],
            [
             0.8,
             "#7fbc41"
            ],
            [
             0.9,
             "#4d9221"
            ],
            [
             1,
             "#276419"
            ]
           ],
           "sequential": [
            [
             0,
             "#0d0887"
            ],
            [
             0.1111111111111111,
             "#46039f"
            ],
            [
             0.2222222222222222,
             "#7201a8"
            ],
            [
             0.3333333333333333,
             "#9c179e"
            ],
            [
             0.4444444444444444,
             "#bd3786"
            ],
            [
             0.5555555555555556,
             "#d8576b"
            ],
            [
             0.6666666666666666,
             "#ed7953"
            ],
            [
             0.7777777777777778,
             "#fb9f3a"
            ],
            [
             0.8888888888888888,
             "#fdca26"
            ],
            [
             1,
             "#f0f921"
            ]
           ],
           "sequentialminus": [
            [
             0,
             "#0d0887"
            ],
            [
             0.1111111111111111,
             "#46039f"
            ],
            [
             0.2222222222222222,
             "#7201a8"
            ],
            [
             0.3333333333333333,
             "#9c179e"
            ],
            [
             0.4444444444444444,
             "#bd3786"
            ],
            [
             0.5555555555555556,
             "#d8576b"
            ],
            [
             0.6666666666666666,
             "#ed7953"
            ],
            [
             0.7777777777777778,
             "#fb9f3a"
            ],
            [
             0.8888888888888888,
             "#fdca26"
            ],
            [
             1,
             "#f0f921"
            ]
           ]
          },
          "colorway": [
           "#636efa",
           "#EF553B",
           "#00cc96",
           "#ab63fa",
           "#FFA15A",
           "#19d3f3",
           "#FF6692",
           "#B6E880",
           "#FF97FF",
           "#FECB52"
          ],
          "font": {
           "color": "#2a3f5f"
          },
          "geo": {
           "bgcolor": "white",
           "lakecolor": "white",
           "landcolor": "#E5ECF6",
           "showlakes": true,
           "showland": true,
           "subunitcolor": "white"
          },
          "hoverlabel": {
           "align": "left"
          },
          "hovermode": "closest",
          "mapbox": {
           "style": "light"
          },
          "paper_bgcolor": "white",
          "plot_bgcolor": "#E5ECF6",
          "polar": {
           "angularaxis": {
            "gridcolor": "white",
            "linecolor": "white",
            "ticks": ""
           },
           "bgcolor": "#E5ECF6",
           "radialaxis": {
            "gridcolor": "white",
            "linecolor": "white",
            "ticks": ""
           }
          },
          "scene": {
           "xaxis": {
            "backgroundcolor": "#E5ECF6",
            "gridcolor": "white",
            "gridwidth": 2,
            "linecolor": "white",
            "showbackground": true,
            "ticks": "",
            "zerolinecolor": "white"
           },
           "yaxis": {
            "backgroundcolor": "#E5ECF6",
            "gridcolor": "white",
            "gridwidth": 2,
            "linecolor": "white",
            "showbackground": true,
            "ticks": "",
            "zerolinecolor": "white"
           },
           "zaxis": {
            "backgroundcolor": "#E5ECF6",
            "gridcolor": "white",
            "gridwidth": 2,
            "linecolor": "white",
            "showbackground": true,
            "ticks": "",
            "zerolinecolor": "white"
           }
          },
          "shapedefaults": {
           "line": {
            "color": "#2a3f5f"
           }
          },
          "ternary": {
           "aaxis": {
            "gridcolor": "white",
            "linecolor": "white",
            "ticks": ""
           },
           "baxis": {
            "gridcolor": "white",
            "linecolor": "white",
            "ticks": ""
           },
           "bgcolor": "#E5ECF6",
           "caxis": {
            "gridcolor": "white",
            "linecolor": "white",
            "ticks": ""
           }
          },
          "title": {
           "x": 0.05
          },
          "xaxis": {
           "automargin": true,
           "gridcolor": "white",
           "linecolor": "white",
           "ticks": "",
           "title": {
            "standoff": 15
           },
           "zerolinecolor": "white",
           "zerolinewidth": 2
          },
          "yaxis": {
           "automargin": true,
           "gridcolor": "white",
           "linecolor": "white",
           "ticks": "",
           "title": {
            "standoff": 15
           },
           "zerolinecolor": "white",
           "zerolinewidth": 2
          }
         }
        },
        "title": {
         "text": "Simple Line Plot"
        },
        "xaxis": {
         "anchor": "y",
         "domain": [
          0,
          1
         ],
         "title": {
          "text": "X Axis"
         }
        },
        "yaxis": {
         "anchor": "x",
         "domain": [
          0,
          1
         ],
         "title": {
          "text": "Y Axis"
         }
        }
       }
      }
     },
     "metadata": {},
     "output_type": "display_data"
    }
   ],
   "source": [
    "#20] Using Plotly, create a basic line plot of a randomly generated dataset, label the axes, and set the title as \n",
    "#'Simple Line Plot'\n",
    "\n",
    "import plotly.express as px\n",
    "x = np.arange(1,11)\n",
    "y = np.random.randint(1,100,size=len(x))\n",
    "fig = px.line(x=x,y=y)\n",
    "fig.update_layout(title=\"Simple Line Plot\",xaxis_title=\"X Axis\",yaxis_title=\"Y Axis\")\n",
    "fig.show()"
   ]
  },
  {
   "cell_type": "code",
   "execution_count": 43,
   "metadata": {},
   "outputs": [
    {
     "data": {
      "application/vnd.plotly.v1+json": {
       "config": {
        "plotlyServerURL": "https://plot.ly"
       },
       "data": [
        {
         "domain": {
          "x": [
           0,
           1
          ],
          "y": [
           0,
           1
          ]
         },
         "hovertemplate": "value=%{value}<extra></extra>",
         "legendgroup": "",
         "name": "",
         "showlegend": false,
         "type": "pie",
         "values": [
          67,
          83,
          36,
          96,
          45
         ]
        }
       ],
       "layout": {
        "legend": {
         "tracegroupgap": 0
        },
        "margin": {
         "t": 60
        },
        "template": {
         "data": {
          "bar": [
           {
            "error_x": {
             "color": "#2a3f5f"
            },
            "error_y": {
             "color": "#2a3f5f"
            },
            "marker": {
             "line": {
              "color": "#E5ECF6",
              "width": 0.5
             },
             "pattern": {
              "fillmode": "overlay",
              "size": 10,
              "solidity": 0.2
             }
            },
            "type": "bar"
           }
          ],
          "barpolar": [
           {
            "marker": {
             "line": {
              "color": "#E5ECF6",
              "width": 0.5
             },
             "pattern": {
              "fillmode": "overlay",
              "size": 10,
              "solidity": 0.2
             }
            },
            "type": "barpolar"
           }
          ],
          "carpet": [
           {
            "aaxis": {
             "endlinecolor": "#2a3f5f",
             "gridcolor": "white",
             "linecolor": "white",
             "minorgridcolor": "white",
             "startlinecolor": "#2a3f5f"
            },
            "baxis": {
             "endlinecolor": "#2a3f5f",
             "gridcolor": "white",
             "linecolor": "white",
             "minorgridcolor": "white",
             "startlinecolor": "#2a3f5f"
            },
            "type": "carpet"
           }
          ],
          "choropleth": [
           {
            "colorbar": {
             "outlinewidth": 0,
             "ticks": ""
            },
            "type": "choropleth"
           }
          ],
          "contour": [
           {
            "colorbar": {
             "outlinewidth": 0,
             "ticks": ""
            },
            "colorscale": [
             [
              0,
              "#0d0887"
             ],
             [
              0.1111111111111111,
              "#46039f"
             ],
             [
              0.2222222222222222,
              "#7201a8"
             ],
             [
              0.3333333333333333,
              "#9c179e"
             ],
             [
              0.4444444444444444,
              "#bd3786"
             ],
             [
              0.5555555555555556,
              "#d8576b"
             ],
             [
              0.6666666666666666,
              "#ed7953"
             ],
             [
              0.7777777777777778,
              "#fb9f3a"
             ],
             [
              0.8888888888888888,
              "#fdca26"
             ],
             [
              1,
              "#f0f921"
             ]
            ],
            "type": "contour"
           }
          ],
          "contourcarpet": [
           {
            "colorbar": {
             "outlinewidth": 0,
             "ticks": ""
            },
            "type": "contourcarpet"
           }
          ],
          "heatmap": [
           {
            "colorbar": {
             "outlinewidth": 0,
             "ticks": ""
            },
            "colorscale": [
             [
              0,
              "#0d0887"
             ],
             [
              0.1111111111111111,
              "#46039f"
             ],
             [
              0.2222222222222222,
              "#7201a8"
             ],
             [
              0.3333333333333333,
              "#9c179e"
             ],
             [
              0.4444444444444444,
              "#bd3786"
             ],
             [
              0.5555555555555556,
              "#d8576b"
             ],
             [
              0.6666666666666666,
              "#ed7953"
             ],
             [
              0.7777777777777778,
              "#fb9f3a"
             ],
             [
              0.8888888888888888,
              "#fdca26"
             ],
             [
              1,
              "#f0f921"
             ]
            ],
            "type": "heatmap"
           }
          ],
          "heatmapgl": [
           {
            "colorbar": {
             "outlinewidth": 0,
             "ticks": ""
            },
            "colorscale": [
             [
              0,
              "#0d0887"
             ],
             [
              0.1111111111111111,
              "#46039f"
             ],
             [
              0.2222222222222222,
              "#7201a8"
             ],
             [
              0.3333333333333333,
              "#9c179e"
             ],
             [
              0.4444444444444444,
              "#bd3786"
             ],
             [
              0.5555555555555556,
              "#d8576b"
             ],
             [
              0.6666666666666666,
              "#ed7953"
             ],
             [
              0.7777777777777778,
              "#fb9f3a"
             ],
             [
              0.8888888888888888,
              "#fdca26"
             ],
             [
              1,
              "#f0f921"
             ]
            ],
            "type": "heatmapgl"
           }
          ],
          "histogram": [
           {
            "marker": {
             "pattern": {
              "fillmode": "overlay",
              "size": 10,
              "solidity": 0.2
             }
            },
            "type": "histogram"
           }
          ],
          "histogram2d": [
           {
            "colorbar": {
             "outlinewidth": 0,
             "ticks": ""
            },
            "colorscale": [
             [
              0,
              "#0d0887"
             ],
             [
              0.1111111111111111,
              "#46039f"
             ],
             [
              0.2222222222222222,
              "#7201a8"
             ],
             [
              0.3333333333333333,
              "#9c179e"
             ],
             [
              0.4444444444444444,
              "#bd3786"
             ],
             [
              0.5555555555555556,
              "#d8576b"
             ],
             [
              0.6666666666666666,
              "#ed7953"
             ],
             [
              0.7777777777777778,
              "#fb9f3a"
             ],
             [
              0.8888888888888888,
              "#fdca26"
             ],
             [
              1,
              "#f0f921"
             ]
            ],
            "type": "histogram2d"
           }
          ],
          "histogram2dcontour": [
           {
            "colorbar": {
             "outlinewidth": 0,
             "ticks": ""
            },
            "colorscale": [
             [
              0,
              "#0d0887"
             ],
             [
              0.1111111111111111,
              "#46039f"
             ],
             [
              0.2222222222222222,
              "#7201a8"
             ],
             [
              0.3333333333333333,
              "#9c179e"
             ],
             [
              0.4444444444444444,
              "#bd3786"
             ],
             [
              0.5555555555555556,
              "#d8576b"
             ],
             [
              0.6666666666666666,
              "#ed7953"
             ],
             [
              0.7777777777777778,
              "#fb9f3a"
             ],
             [
              0.8888888888888888,
              "#fdca26"
             ],
             [
              1,
              "#f0f921"
             ]
            ],
            "type": "histogram2dcontour"
           }
          ],
          "mesh3d": [
           {
            "colorbar": {
             "outlinewidth": 0,
             "ticks": ""
            },
            "type": "mesh3d"
           }
          ],
          "parcoords": [
           {
            "line": {
             "colorbar": {
              "outlinewidth": 0,
              "ticks": ""
             }
            },
            "type": "parcoords"
           }
          ],
          "pie": [
           {
            "automargin": true,
            "type": "pie"
           }
          ],
          "scatter": [
           {
            "fillpattern": {
             "fillmode": "overlay",
             "size": 10,
             "solidity": 0.2
            },
            "type": "scatter"
           }
          ],
          "scatter3d": [
           {
            "line": {
             "colorbar": {
              "outlinewidth": 0,
              "ticks": ""
             }
            },
            "marker": {
             "colorbar": {
              "outlinewidth": 0,
              "ticks": ""
             }
            },
            "type": "scatter3d"
           }
          ],
          "scattercarpet": [
           {
            "marker": {
             "colorbar": {
              "outlinewidth": 0,
              "ticks": ""
             }
            },
            "type": "scattercarpet"
           }
          ],
          "scattergeo": [
           {
            "marker": {
             "colorbar": {
              "outlinewidth": 0,
              "ticks": ""
             }
            },
            "type": "scattergeo"
           }
          ],
          "scattergl": [
           {
            "marker": {
             "colorbar": {
              "outlinewidth": 0,
              "ticks": ""
             }
            },
            "type": "scattergl"
           }
          ],
          "scattermapbox": [
           {
            "marker": {
             "colorbar": {
              "outlinewidth": 0,
              "ticks": ""
             }
            },
            "type": "scattermapbox"
           }
          ],
          "scatterpolar": [
           {
            "marker": {
             "colorbar": {
              "outlinewidth": 0,
              "ticks": ""
             }
            },
            "type": "scatterpolar"
           }
          ],
          "scatterpolargl": [
           {
            "marker": {
             "colorbar": {
              "outlinewidth": 0,
              "ticks": ""
             }
            },
            "type": "scatterpolargl"
           }
          ],
          "scatterternary": [
           {
            "marker": {
             "colorbar": {
              "outlinewidth": 0,
              "ticks": ""
             }
            },
            "type": "scatterternary"
           }
          ],
          "surface": [
           {
            "colorbar": {
             "outlinewidth": 0,
             "ticks": ""
            },
            "colorscale": [
             [
              0,
              "#0d0887"
             ],
             [
              0.1111111111111111,
              "#46039f"
             ],
             [
              0.2222222222222222,
              "#7201a8"
             ],
             [
              0.3333333333333333,
              "#9c179e"
             ],
             [
              0.4444444444444444,
              "#bd3786"
             ],
             [
              0.5555555555555556,
              "#d8576b"
             ],
             [
              0.6666666666666666,
              "#ed7953"
             ],
             [
              0.7777777777777778,
              "#fb9f3a"
             ],
             [
              0.8888888888888888,
              "#fdca26"
             ],
             [
              1,
              "#f0f921"
             ]
            ],
            "type": "surface"
           }
          ],
          "table": [
           {
            "cells": {
             "fill": {
              "color": "#EBF0F8"
             },
             "line": {
              "color": "white"
             }
            },
            "header": {
             "fill": {
              "color": "#C8D4E3"
             },
             "line": {
              "color": "white"
             }
            },
            "type": "table"
           }
          ]
         },
         "layout": {
          "annotationdefaults": {
           "arrowcolor": "#2a3f5f",
           "arrowhead": 0,
           "arrowwidth": 1
          },
          "autotypenumbers": "strict",
          "coloraxis": {
           "colorbar": {
            "outlinewidth": 0,
            "ticks": ""
           }
          },
          "colorscale": {
           "diverging": [
            [
             0,
             "#8e0152"
            ],
            [
             0.1,
             "#c51b7d"
            ],
            [
             0.2,
             "#de77ae"
            ],
            [
             0.3,
             "#f1b6da"
            ],
            [
             0.4,
             "#fde0ef"
            ],
            [
             0.5,
             "#f7f7f7"
            ],
            [
             0.6,
             "#e6f5d0"
            ],
            [
             0.7,
             "#b8e186"
            ],
            [
             0.8,
             "#7fbc41"
            ],
            [
             0.9,
             "#4d9221"
            ],
            [
             1,
             "#276419"
            ]
           ],
           "sequential": [
            [
             0,
             "#0d0887"
            ],
            [
             0.1111111111111111,
             "#46039f"
            ],
            [
             0.2222222222222222,
             "#7201a8"
            ],
            [
             0.3333333333333333,
             "#9c179e"
            ],
            [
             0.4444444444444444,
             "#bd3786"
            ],
            [
             0.5555555555555556,
             "#d8576b"
            ],
            [
             0.6666666666666666,
             "#ed7953"
            ],
            [
             0.7777777777777778,
             "#fb9f3a"
            ],
            [
             0.8888888888888888,
             "#fdca26"
            ],
            [
             1,
             "#f0f921"
            ]
           ],
           "sequentialminus": [
            [
             0,
             "#0d0887"
            ],
            [
             0.1111111111111111,
             "#46039f"
            ],
            [
             0.2222222222222222,
             "#7201a8"
            ],
            [
             0.3333333333333333,
             "#9c179e"
            ],
            [
             0.4444444444444444,
             "#bd3786"
            ],
            [
             0.5555555555555556,
             "#d8576b"
            ],
            [
             0.6666666666666666,
             "#ed7953"
            ],
            [
             0.7777777777777778,
             "#fb9f3a"
            ],
            [
             0.8888888888888888,
             "#fdca26"
            ],
            [
             1,
             "#f0f921"
            ]
           ]
          },
          "colorway": [
           "#636efa",
           "#EF553B",
           "#00cc96",
           "#ab63fa",
           "#FFA15A",
           "#19d3f3",
           "#FF6692",
           "#B6E880",
           "#FF97FF",
           "#FECB52"
          ],
          "font": {
           "color": "#2a3f5f"
          },
          "geo": {
           "bgcolor": "white",
           "lakecolor": "white",
           "landcolor": "#E5ECF6",
           "showlakes": true,
           "showland": true,
           "subunitcolor": "white"
          },
          "hoverlabel": {
           "align": "left"
          },
          "hovermode": "closest",
          "mapbox": {
           "style": "light"
          },
          "paper_bgcolor": "white",
          "plot_bgcolor": "#E5ECF6",
          "polar": {
           "angularaxis": {
            "gridcolor": "white",
            "linecolor": "white",
            "ticks": ""
           },
           "bgcolor": "#E5ECF6",
           "radialaxis": {
            "gridcolor": "white",
            "linecolor": "white",
            "ticks": ""
           }
          },
          "scene": {
           "xaxis": {
            "backgroundcolor": "#E5ECF6",
            "gridcolor": "white",
            "gridwidth": 2,
            "linecolor": "white",
            "showbackground": true,
            "ticks": "",
            "zerolinecolor": "white"
           },
           "yaxis": {
            "backgroundcolor": "#E5ECF6",
            "gridcolor": "white",
            "gridwidth": 2,
            "linecolor": "white",
            "showbackground": true,
            "ticks": "",
            "zerolinecolor": "white"
           },
           "zaxis": {
            "backgroundcolor": "#E5ECF6",
            "gridcolor": "white",
            "gridwidth": 2,
            "linecolor": "white",
            "showbackground": true,
            "ticks": "",
            "zerolinecolor": "white"
           }
          },
          "shapedefaults": {
           "line": {
            "color": "#2a3f5f"
           }
          },
          "ternary": {
           "aaxis": {
            "gridcolor": "white",
            "linecolor": "white",
            "ticks": ""
           },
           "baxis": {
            "gridcolor": "white",
            "linecolor": "white",
            "ticks": ""
           },
           "bgcolor": "#E5ECF6",
           "caxis": {
            "gridcolor": "white",
            "linecolor": "white",
            "ticks": ""
           }
          },
          "title": {
           "x": 0.05
          },
          "xaxis": {
           "automargin": true,
           "gridcolor": "white",
           "linecolor": "white",
           "ticks": "",
           "title": {
            "standoff": 15
           },
           "zerolinecolor": "white",
           "zerolinewidth": 2
          },
          "yaxis": {
           "automargin": true,
           "gridcolor": "white",
           "linecolor": "white",
           "ticks": "",
           "title": {
            "standoff": 15
           },
           "zerolinecolor": "white",
           "zerolinewidth": 2
          }
         }
        },
        "title": {
         "text": "Interactive Pie Chart"
        }
       }
      }
     },
     "metadata": {},
     "output_type": "display_data"
    }
   ],
   "source": [
    "#(21) Using Plotly, create an interactive pie chart of randomly generated data, add labels and percentages, set \n",
    "#the title as 'Interactive Pie Chart'.\n",
    "labels = [\"A\",\"F\",\"C\",\"D\",\"E\"]\n",
    "values = np.random.randint(1,100,size=(len(labels)))\n",
    "fig = px.pie(values=values,labels=labels)\n",
    "fig.update_layout(title_text='Interactive Pie Chart')\n",
    "fig.show()\n"
   ]
  },
  {
   "cell_type": "code",
   "execution_count": null,
   "metadata": {},
   "outputs": [],
   "source": []
  }
 ],
 "metadata": {
  "kernelspec": {
   "display_name": "Python 3",
   "language": "python",
   "name": "python3"
  },
  "language_info": {
   "codemirror_mode": {
    "name": "ipython",
    "version": 3
   },
   "file_extension": ".py",
   "mimetype": "text/x-python",
   "name": "python",
   "nbconvert_exporter": "python",
   "pygments_lexer": "ipython3",
   "version": "3.11.9"
  }
 },
 "nbformat": 4,
 "nbformat_minor": 2
}
